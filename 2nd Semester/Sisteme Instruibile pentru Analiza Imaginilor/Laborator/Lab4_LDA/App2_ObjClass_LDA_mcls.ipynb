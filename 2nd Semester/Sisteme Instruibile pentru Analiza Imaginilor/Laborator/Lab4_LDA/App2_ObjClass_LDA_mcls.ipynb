{
 "cells": [
  {
   "cell_type": "markdown",
   "metadata": {},
   "source": [
    "# LDA - Linear Discriminant Analysis -  clase multiple\n",
    "## Baza de date - recunoastere obiecte - ImgTstObjClassif_lab10_11"
   ]
  },
  {
   "cell_type": "code",
   "execution_count": 1,
   "metadata": {},
   "outputs": [],
   "source": [
    "import os  \n",
    "import cv2 \n",
    "import numpy as np\n",
    "import matplotlib.pyplot as plt"
   ]
  },
  {
   "cell_type": "code",
   "execution_count": 2,
   "metadata": {},
   "outputs": [],
   "source": [
    "import sys\n",
    "sys.path.append('../_PyUtilFcts/')\n",
    "import ColorSpaceFunctions as clsFcts\n",
    "\n",
    "# In[1]  functia pentru formarea vectorului de trasaturi\n",
    "def ImgFeatExtr(fileName, rszFct, clSpCod,imgComps):\n",
    "  \n",
    "    # citire imagine si conversie BGR to RGB\n",
    "    imgRGB = cv2.cvtColor(cv2.imread(fileName) , cv2.COLOR_BGR2RGB) \n",
    "    newShape = (int(imgRGB.shape[0]*rszFct),int(imgRGB.shape[1]*rszFct))\n",
    "    imgRsz = cv2.resize(imgRGB, newShape, interpolation = cv2.INTER_NEAREST)\n",
    "    if (NewColorSpace=='R/G/B'):\n",
    "        ImgClrSp = imgRsz\n",
    "    elif (NewColorSpace=='gray'):\n",
    "        ImgClrSp = cv2.cvtColor(imgRsz , cv2.COLOR_RGB2GRAY) \n",
    "    else:\n",
    "        ImgClrSp = clsFcts.ConvertColorSpace(imgRsz, 'R/G/B' , NewColorSpace)\n",
    "    ImgClrSp = ImgClrSp/255\n",
    "    if (NewColorSpace=='gray'):\n",
    "        Img1D = np.reshape(ImgClrSp[:,:],(ImgClrSp.shape[0]*ImgClrSp.shape[1],))\n",
    "    else:\n",
    "        Img1D = np.reshape(ImgClrSp[:,:,imgComps],(ImgClrSp.shape[0]*ImgClrSp.shape[1] *imgComps.shape[0],))\n",
    "    # plt.imshow(imgRsz); plt.show();\n",
    "    return Img1D"
   ]
  },
  {
   "cell_type": "code",
   "execution_count": 3,
   "metadata": {},
   "outputs": [],
   "source": [
    "# In[2] Setare parametrii\n",
    "# Setare director imagini - subdirectoare pe obiecte \n",
    "# - 10 exemple pentru fiecare obiect cu ~40 views \n",
    "    \n",
    "pathData = '/Users/galoscar07/Documents/master2k20-2k22/2nd Semester/SIAI/Laborator/_TestImages/ImgTstObjClassif_lab10_11/'\n",
    "\n",
    "# Folosim clasificatoare binare - clasificam doar 2 obiecte odata\n",
    "# Numele obiectelor - se pot adauga cate obiecte se doresc \n",
    "objName = ['apple','tomato','pear'] \n",
    "# objName = ['apple','tomato','pear','cow','horse','dog'] \n",
    "\n",
    "\n",
    "# Imaginile obiect se redimensioneaza - miscsoreaza\n",
    "#   in clasificare folosim varianta redusa\n",
    "ResizeFactor = 0.15 # valoare intre [0,1] - pentru micsorare imagine\n",
    "\n",
    "# Setare numar de imagini care vor fi considerate la testare \n",
    "# (retul imaginilor vor fi utilizare la antrenare)\n",
    "test_size = 0.5     # 0.3 / 0.5 / 0.7 \n",
    "\n",
    "# Setare spatiu de culoare in care este reprezentata imaginea\n",
    "SelClrSp = 1 # ['R/G/B' = 0, 'Y/Cr/Cb' = 1, 'H/S/V' = 2, 'L/a/b' = 3, 'gray' = 4] \n",
    "\n",
    "# Setare componete  pentru spatiu de culoare care se considera in clasificare\n",
    "imgComps = np.array([0,1,2]) # [C1 = 0, C2 = 1, C3 = 2]"
   ]
  },
  {
   "cell_type": "code",
   "execution_count": 4,
   "metadata": {},
   "outputs": [
    {
     "name": "stdout",
     "output_type": "stream",
     "text": [
      "\n",
      " Spatiu de culoare utilizat: Y/Cr/Cb\n",
      " Componente utilizate:  ['Y' 'Cr' 'Cb']\n",
      " Imaginile vor fi redimensionate/ miscsorate cu factorul de:  0.15\n",
      " Clasele considerate:  ['apple', 'tomato', 'pear']\n"
     ]
    }
   ],
   "source": [
    "ColorSpacesList = ['R/G/B', 'Y/Cr/Cb', 'H/S/V', 'L/a/b', 'gray'] \n",
    "NewColorSpace = ColorSpacesList[SelClrSp] \n",
    "\n",
    "print('\\n Spatiu de culoare utilizat: '+ NewColorSpace)\n",
    "print(' Componente utilizate: ', np.array(NewColorSpace.split('/'))[imgComps])\n",
    "print(' Imaginile vor fi redimensionate/ miscsorate cu factorul de: ', ResizeFactor)\n",
    "# print(' Setul de date vor fi impartite: ', 100-test_size*100,' % train', test_size*100,' % test' )\n",
    "print(' Clasele considerate: ', objName)\n",
    "# In[3] Citire imagini si organizare set de date pentru antrenare/testare\n",
    "# Fiecare imagine este reprezentata sub forma unui vector de trasaturi 1D, pentru clasificare\n",
    "\n",
    "# Citim toate imaginile din directorul pathTrn \n",
    "# care contin cele 2 obiecte/clase din objName \n",
    "# fiecare obiect are mai multe directoare fiecare cu ~40 views/ obiect \n",
    "x = []; y=[]; \n",
    "for i in range(0,len(objName)): #consideram fiecare forma\n",
    "    for j in range(1,11): # nr de imagini pentru fiecare forma\n",
    "        dirName = pathData + objName[i] + str(j)\n",
    "        dirFiles = os.listdir(dirName)      #all filenames of that particular dir -- image\n",
    "        for k in range(0,len(dirFiles)):\n",
    "            fileName = dirName+\"/\"+dirFiles[k]\n",
    "            if (os.path.isfile(fileName)):\n",
    "                imgFeat1D = ImgFeatExtr(fileName, ResizeFactor, NewColorSpace, imgComps)\n",
    "                x.append(imgFeat1D)\n",
    "                y.append(i)\n",
    "\n",
    "# X vectorul de trasaturi \n",
    "X = np.asarray(x) \n",
    "# y vector cu labelurile fiecarei imagini\n",
    "y = np.asarray(y) \n"
   ]
  },
  {
   "cell_type": "code",
   "execution_count": 5,
   "metadata": {},
   "outputs": [
    {
     "name": "stdout",
     "output_type": "stream",
     "text": [
      " Setul de date vor fi impartite:  615  train 615  test\n",
      "\n",
      " Accuracy LDA OneVsOneClassifier:  0.9869918699186991\n",
      " Confusion Matrix: \n",
      " [[198   7   0]\n",
      " [  1 211   0]\n",
      " [  0   0 198]]\n",
      "\n",
      " Accuracy LDA OneVsRestClassifier:  0.983739837398374\n",
      " Confusion Matrix: \n",
      " [[201   4   0]\n",
      " [  6 206   0]\n",
      " [  0   0 198]]\n"
     ]
    }
   ],
   "source": [
    "# In[4] Applying LDA - clasificator multiclasa \n",
    "from sklearn.model_selection import train_test_split\n",
    "from sklearn.discriminant_analysis import LinearDiscriminantAnalysis as LDA\n",
    "from sklearn.multiclass import OneVsOneClassifier\n",
    "from sklearn.multiclass import OneVsRestClassifier\n",
    "from sklearn import metrics\n",
    "\n",
    "# divizare date in set de antrenare si set de test\n",
    "X_train, X_test, y_train, y_test = train_test_split(X, y, test_size = test_size, random_state = 0)\n",
    "\n",
    "print(' Setul de date vor fi impartite: ', X_train.shape[0],' train',  X_test.shape[0],' test' )\n",
    "\n",
    "classifierOvO = OneVsOneClassifier(LDA(n_components = 1))\n",
    "y_scoreOvO = classifierOvO.fit(X_train, y_train).decision_function(X_test)\n",
    "y_predOvO = np.argmax(y_scoreOvO, axis=1)\n",
    "\n",
    "classifierOvR = OneVsRestClassifier(LDA(n_components = 1))\n",
    "y_scoreOvR = classifierOvR.fit(X_train, y_train).decision_function(X_test)\n",
    "y_predOvR = np.argmax(y_scoreOvR, axis=1)\n",
    "\n",
    "print('\\n Accuracy LDA OneVsOneClassifier: ', metrics.accuracy_score(y_test, y_predOvO))\n",
    "print(' Confusion Matrix: \\n', metrics.confusion_matrix(y_test,y_predOvO))\n",
    "print('\\n Accuracy LDA OneVsRestClassifier: ', metrics.accuracy_score(y_test, y_predOvR))\n",
    "print(' Confusion Matrix: \\n', metrics.confusion_matrix(y_test,y_predOvR))"
   ]
  },
  {
   "cell_type": "code",
   "execution_count": null,
   "metadata": {},
   "outputs": [],
   "source": []
  }
 ],
 "metadata": {
  "kernelspec": {
   "display_name": "Python 3",
   "language": "python",
   "name": "python3"
  },
  "language_info": {
   "codemirror_mode": {
    "name": "ipython",
    "version": 3
   },
   "file_extension": ".py",
   "mimetype": "text/x-python",
   "name": "python",
   "nbconvert_exporter": "python",
   "pygments_lexer": "ipython3",
   "version": "3.8.5"
  }
 },
 "nbformat": 4,
 "nbformat_minor": 4
}
