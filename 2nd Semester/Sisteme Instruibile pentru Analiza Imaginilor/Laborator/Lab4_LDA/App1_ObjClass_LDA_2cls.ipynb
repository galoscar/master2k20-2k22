{
 "cells": [
  {
   "cell_type": "markdown",
   "metadata": {},
   "source": [
    "# LDA - Linear Discriminant Analysis - binar/ 2 clase\n",
    "## Baza de date - recunoastere obiecte - ImgTstObjClassif_lab10_11\n"
   ]
  },
  {
   "cell_type": "code",
   "execution_count": 1,
   "metadata": {},
   "outputs": [],
   "source": [
    "import os  \n",
    "import cv2 \n",
    "import numpy as np\n",
    "import matplotlib.pyplot as plt"
   ]
  },
  {
   "cell_type": "code",
   "execution_count": 2,
   "metadata": {},
   "outputs": [],
   "source": [
    "import sys\n",
    "sys.path.append('../_PyUtilFcts/')\n",
    "import ColorSpaceFunctions as clsFcts\n",
    "\n",
    "# functia pentru formarea vectorului de trasaturi\n",
    "def ImgFeatExtr(fileName, rszFct, clSpCod,imgComps):\n",
    "    # citire imagine si conversie BGR to RGB\n",
    "    imgRGB = cv2.cvtColor(cv2.imread(fileName) , cv2.COLOR_BGR2RGB) \n",
    "    newShape = (int(imgRGB.shape[0]*rszFct),int(imgRGB.shape[1]*rszFct))\n",
    "    imgRsz = cv2.resize(imgRGB, newShape, interpolation = cv2.INTER_NEAREST)\n",
    "    if (NewColorSpace=='R/G/B'):\n",
    "        ImgClrSp = imgRsz\n",
    "    elif (NewColorSpace=='gray'):\n",
    "        ImgClrSp = cv2.cvtColor(imgRsz , cv2.COLOR_RGB2GRAY) \n",
    "    else:\n",
    "        ImgClrSp = clsFcts.ConvertColorSpace(imgRsz, 'R/G/B' , NewColorSpace)\n",
    "    ImgClrSp = ImgClrSp/255\n",
    "    if (NewColorSpace=='gray'):\n",
    "        Img1D = np.reshape(ImgClrSp[:,:],(ImgClrSp.shape[0]*ImgClrSp.shape[1],))\n",
    "    else:\n",
    "        Img1D = np.reshape(ImgClrSp[:,:,imgComps],(ImgClrSp.shape[0]*ImgClrSp.shape[1] *imgComps.shape[0],))\n",
    "    # plt.imshow(imgRsz); plt.show();\n",
    "    return Img1D\n",
    "    "
   ]
  },
  {
   "cell_type": "code",
   "execution_count": 3,
   "metadata": {},
   "outputs": [],
   "source": [
    "# Setare parametrii\n",
    "# Setare director imagini - subdirectoare pe obiecte \n",
    "# - 10 exemple pentru fiecare obiect cu ~40 views \n",
    "    \n",
    "pathData = '/Users/galoscar07/Documents/master2k20-2k22/2nd Semester/SIAI/Laborator/_TestImages/ImgTstObjClassif_lab10_11/'\n",
    "\n",
    "# Folosim clasificatoare binare - clasificam doar 2 obiecte odata\n",
    "# Numele celor doua obiecte \n",
    "#objName = ['apple','pear'] \n",
    "#objName = ['apple','tomato'] \n",
    "# objName = ['apple','cow'] \n",
    "objName = ['horse','cow'] \n",
    "# objName = ['horse','dog'] \n",
    "\n",
    "# Imaginile obiect se redimensioneaza - miscsoreaza\n",
    "#   in clasificare folosim varianta redusa\n",
    "#   se vor testa 0.1/ 0.15/ 0.25/ 0.75 \n",
    "ResizeFactor = 0.75 # valoare intre [0,1] - pentru micsorare imagine\n",
    "\n",
    "# Setare numar de imagini care vor fi considerate la testare \n",
    "# (retul imaginilor vor fi utilizare la antrenare)\n",
    "test_size = 0.7     # 0.3 / 0.5 / 0.7 \n",
    "\n",
    "# Setare spatiu de culoare in care este reprezentata imaginea\n",
    "SelClrSp = 1 # ['R/G/B' = 0, 'Y/Cr/Cb' = 1, 'H/S/V' = 2, 'L/a/b' = 3] \n",
    "\n",
    "# Setare componete  pentru spatiu de culoare care se considera in clasificare\n",
    "#imgComps = np.array([0]) #  se considera doar C = 0, componenta Y pentru YCrCb\n",
    "imgComps = np.array([0, 1, 2]) # [C1 = 0, C2 = 1, C3 = 2]"
   ]
  },
  {
   "cell_type": "code",
   "execution_count": 4,
   "metadata": {},
   "outputs": [
    {
     "name": "stdout",
     "output_type": "stream",
     "text": [
      "\n",
      " Spatiu de culoare utilizat: Y/Cr/Cb\n",
      " Componente utilizate:  ['Y' 'Cr' 'Cb']\n",
      " Imaginile vor fi redimensionate/ miscsorate cu factorul de:  0.75\n",
      " Clasele considerate:  ['horse', 'cow']\n"
     ]
    }
   ],
   "source": [
    "\n",
    "ColorSpacesList = ['R/G/B', 'Y/Cr/Cb', 'H/S/V', 'L/a/b', 'gray'] \n",
    "NewColorSpace = ColorSpacesList[SelClrSp] \n",
    "\n",
    "print('\\n Spatiu de culoare utilizat: '+ NewColorSpace)\n",
    "print(' Componente utilizate: ', np.array(NewColorSpace.split('/'))[imgComps])\n",
    "print(' Imaginile vor fi redimensionate/ miscsorate cu factorul de: ', ResizeFactor)\n",
    "print(' Clasele considerate: ', objName)"
   ]
  },
  {
   "cell_type": "code",
   "execution_count": 5,
   "metadata": {},
   "outputs": [
    {
     "name": "stdout",
     "output_type": "stream",
     "text": [
      " X.shape:  (820, 27648)\n"
     ]
    }
   ],
   "source": [
    "# In[3] Citire imagini si organizare set de date pentru antrenare/testare\n",
    "# Fiecare imagine este reprezentata sub forma unui vector de trasaturi 1D, pentru clasificare\n",
    "\n",
    "# Citim toate imaginile din directorul pathTrn \n",
    "# care contin cele 2 obiecte/clase din objName \n",
    "# fiecare obiect are mai multe directoare fiecare cu ~40 views/ obiect \n",
    "x = []; y=[]; \n",
    "for i in range(0,len(objName)): #consideram fiecare forma\n",
    "    for j in range(1,11): # nr de imagini pentru fiecare forma\n",
    "        dirName = pathData + objName[i] + str(j)\n",
    "        dirFiles = os.listdir(dirName)      #all filenames of that particular dir -- image\n",
    "        for k in range(0,len(dirFiles)):\n",
    "            fileName = dirName+\"/\"+dirFiles[k]\n",
    "            if (os.path.isfile(fileName)):\n",
    "                imgFeat1D = ImgFeatExtr(fileName, ResizeFactor, NewColorSpace, imgComps)\n",
    "                x.append(imgFeat1D)\n",
    "                y.append(i)\n",
    "\n",
    "# X vectorul de trasaturi \n",
    "X = np.asarray(x) \n",
    "# y vector cu labelurile fiecarei imagini\n",
    "y = np.asarray(y) \n",
    "\n",
    "print(' X.shape: ', X.shape)"
   ]
  },
  {
   "cell_type": "code",
   "execution_count": 6,
   "metadata": {},
   "outputs": [
    {
     "name": "stdout",
     "output_type": "stream",
     "text": [
      " Setul de date este impartit:  246  train,  574  test\n"
     ]
    }
   ],
   "source": [
    "# In[4] Applying LDA - clasificator binar\n",
    "from sklearn.model_selection import train_test_split\n",
    "from sklearn.discriminant_analysis import LinearDiscriminantAnalysis as LDA\n",
    "from sklearn import metrics\n",
    "\n",
    "# divizare date in set de antrenare si set de test\n",
    "X_train, X_test, y_train, y_test = train_test_split(X, y, test_size = test_size, random_state = 0)\n",
    "\n",
    "# stepTrn = 3 # Date antreanre - extragere tot a stepTrn imagine\n",
    "# vlsTrn= range(0,X.shape[0],stepTrn)\n",
    "# X_train = X[vlsTrn,:] # extragere valori set antrenare\n",
    "# y_train = y[vlsTrn]   # extragere etichete\n",
    "# # Selectie date test (cele ramase)\n",
    "# X_test = np.delete(X, vlsTrn, axis=0); y_test = np.delete(y, vlsTrn, axis=0)\n",
    "print(' Setul de date este impartit: ', X_train.shape[0],' train, ',  X_test.shape[0],' test' )"
   ]
  },
  {
   "cell_type": "code",
   "execution_count": 7,
   "metadata": {},
   "outputs": [],
   "source": [
    "# Reducerea spatiului de trasaturi la 1D prin aplicare LDA\n",
    "# - fiecare imagine este reprezentata print-o singura valoare\n",
    "model_lda = LDA(n_components = 1)\n",
    "X_train_lda = model_lda.fit_transform(X_train, y_train)\n",
    "X_test_lda = model_lda.transform(X_test)\n"
   ]
  },
  {
   "cell_type": "code",
   "execution_count": 8,
   "metadata": {},
   "outputs": [],
   "source": [
    "# Daca proiectia imaginii este pozitiva => face parte din clasa 1\n",
    "# Daca proiectia imaginii este negativa => face parte din clasa 1\n",
    "# Etichetare set antrenare\n",
    "y_predTrn = np.zeros(X_train_lda.shape[0],) \n",
    "y_predTrn[ np.where(X_train_lda>0) [0] ] = 1\n",
    "\n",
    "# Etichetare set test\n",
    "y_predTst = np.zeros(X_test_lda.shape[0],) \n",
    "y_predTst[ np.where(X_test_lda>0) [0] ] = 1"
   ]
  },
  {
   "cell_type": "code",
   "execution_count": 9,
   "metadata": {},
   "outputs": [
    {
     "name": "stdout",
     "output_type": "stream",
     "text": [
      "\n",
      " ---- Setul de antrenare ------- \n",
      " LDA - Accuracy:  91.869918699187\n",
      " Confusion Matrix pe setul de antrenare: \n",
      " [[116  12]\n",
      " [  8 110]]\n",
      "\n",
      " ---- Setul de testare ------- \n",
      " LDA - Accuracy:  84.66898954703834\n",
      " Confusion Matrix pe setul de testare: \n",
      " [[227  55]\n",
      " [ 33 259]]\n",
      "\n",
      " ---------------------------------- \n",
      " Afisare proiectii 1D a imaginilor \n",
      "  * rosu clasa 1, albastru clasa 2 - reprezentare usor deplasata pentru vizibilitate  \n",
      "       - sus setul de imagini de la antrenare (reprezentat prin stea) \n",
      "       - jos setul de imagini de la de testare (reprezentat prin punct)\n"
     ]
    },
    {
     "data": {
      "image/png": "[encoded data removed]",
      "text/plain": [
       "<Figure size 1080x144 with 1 Axes>"
      ]
     },
     "metadata": {
      "needs_background": "light"
     },
     "output_type": "display_data"
    }
   ],
   "source": [
    "print('\\n ---- Setul de antrenare ------- ')\n",
    "print(' LDA - Accuracy: ', metrics.accuracy_score(y_train, y_predTrn)* 100)\n",
    "print(' Confusion Matrix pe setul de antrenare: \\n', metrics.confusion_matrix(y_train,y_predTrn))\n",
    "print('\\n ---- Setul de testare ------- ')\n",
    "print(' LDA - Accuracy: ', metrics.accuracy_score(y_test, y_predTst) * 100)\n",
    "print(' Confusion Matrix pe setul de testare: \\n', metrics.confusion_matrix(y_test,y_predTst))\n",
    "\n",
    "print('\\n ---------------------------------- ')\n",
    "print(' Afisare proiectii 1D a imaginilor ')\n",
    "print('  * rosu clasa 1, albastru clasa 2 - reprezentare usor deplasata pentru vizibilitate  ')\n",
    "print('       - sus setul de imagini de la antrenare (reprezentat prin stea) ')\n",
    "print('       - jos setul de imagini de la de testare (reprezentat prin punct)')\n",
    "\n",
    "clabel = ['red', 'blue']\n",
    "fig = plt.figure(figsize=(15,2))\n",
    "\n",
    "for i in range(0,X_test_lda.shape[0]):\n",
    "    plt.scatter(X_test_lda[i,0],2+0.15*y_test[i], c=clabel[y_test[i]], marker='o')\n",
    "\n",
    "# fig = plt.figure(figsize=(15,1))\n",
    "for i in range(0,X_train_lda.shape[0]):\n",
    "    plt.scatter(X_train_lda[i,0],6+0.15*y_train[i], c=clabel[y_train[i]], marker='*')\n",
    "\n",
    "plt.show()"
   ]
  },
  {
   "cell_type": "code",
   "execution_count": null,
   "metadata": {},
   "outputs": [],
   "source": []
  }
 ],
 "metadata": {
  "kernelspec": {
   "display_name": "Python 3",
   "language": "python",
   "name": "python3"
  },
  "language_info": {
   "codemirror_mode": {
    "name": "ipython",
    "version": 3
   },
   "file_extension": ".py",
   "mimetype": "text/x-python",
   "name": "python",
   "nbconvert_exporter": "python",
   "pygments_lexer": "ipython3",
   "version": "3.8.5"
  }
 },
 "nbformat": 4,
 "nbformat_minor": 4
}
