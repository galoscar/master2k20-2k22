{
 "cells": [
  {
   "cell_type": "markdown",
   "metadata": {},
   "source": [
    "# Recunoaşterea obiectelor din imagini digitale monobiect, fără extragerea şi selecția trăsăturilor, folosind clasificatoare masini cu vectori suport (SVM) binare"
   ]
  },
  {
   "cell_type": "code",
   "execution_count": 1,
   "metadata": {},
   "outputs": [],
   "source": [
    "# import os  \n",
    "import cv2 \n",
    "import numpy as np\n",
    "import matplotlib.pyplot as plt\n",
    "\n",
    "import sys\n",
    "import ColorSpaceFunctions as clsFcts\n",
    "from tabulate import tabulate\n",
    "from sklearn import metrics"
   ]
  },
  {
   "cell_type": "code",
   "execution_count": 2,
   "metadata": {},
   "outputs": [],
   "source": [
    "# Functia pentru formarea vectorului de trasaturi\n",
    "def ImgFeatExtr(fileName, rszFct, clSpCod,imgComps):\n",
    "    # citire imagine si conversie BGR to RGB\n",
    "    imgRGB = cv2.cvtColor(cv2.imread(fileName) , cv2.COLOR_BGR2RGB) \n",
    "    newShape = (int(imgRGB.shape[0]*rszFct),int(imgRGB.shape[1]*rszFct))\n",
    "    imgRsz = cv2.resize(imgRGB, newShape, interpolation = cv2.INTER_NEAREST)\n",
    "    if (NewColorSpace=='R/G/B'):\n",
    "        ImgClrSp = imgRsz\n",
    "    elif (NewColorSpace=='gray'):\n",
    "        ImgClrSp = cv2.cvtColor(imgRsz , cv2.COLOR_RGB2GRAY) \n",
    "    else:\n",
    "        ImgClrSp = clsFcts.ConvertColorSpace(imgRsz, 'R/G/B' , NewColorSpace)\n",
    "    ImgClrSp = ImgClrSp/255\n",
    "    if (NewColorSpace=='gray'):\n",
    "        Img1D = np.reshape(ImgClrSp[:,:],(ImgClrSp.shape[0]*ImgClrSp.shape[1],))\n",
    "    else:\n",
    "        Img1D = np.reshape(ImgClrSp[:,:,imgComps],(ImgClrSp.shape[0]*ImgClrSp.shape[1] *imgComps.shape[0],))\n",
    "    # plt.imshow(imgRsz); plt.show();\n",
    "    return Img1D\n",
    "\n",
    "def EvalModelCls(y_a, y_a_pred, y_b, y_b_pred, ta, tb):\n",
    "    acc_a = np.round(metrics.accuracy_score(y_a, y_a_pred)*100,5)\n",
    "    acc_b =np.round(metrics.accuracy_score(y_b, y_b_pred)*100,5)\n",
    "    cf_a = metrics.confusion_matrix(y_a, y_a_pred)\n",
    "    cf_b = metrics.confusion_matrix(y_b, y_b_pred)\n",
    "    \n",
    "    print('\\n  Evaluare clasificare:  \\n')\n",
    "    tabel = []\n",
    "    for i in range (0,cf_a.shape[0]):\n",
    "        tabel.append([str(cf_a[i,:]), str(cf_b[i,:])])\n",
    "    headers=[ta+\", Accuracy: \"+str(acc_a)+\",\\n Confusion Matrix: \", \n",
    "             tb+\", Accuracy: \"+str(acc_b)+\",\\n Confusion Matrix: \"]\n",
    "    print(tabulate(tabel, headers, colalign=(\"center\",\"center\")))\n",
    "    return [acc_a, acc_b, cf_a, cf_b]    "
   ]
  },
  {
   "cell_type": "code",
   "execution_count": 3,
   "metadata": {},
   "outputs": [],
   "source": [
    "\n",
    "# In[2] Setare parametrii\n",
    "    \n",
    "# Setare director imagini - cu subdirectoare pe obiecte \n",
    "pathData = '/Users/galoscar07/Documents/master2k20-2k22/2nd Semester/SIAI/Laborator/_TestImages/ImgTstObjClassif_lab10_11/'\n",
    "\n",
    "# Setare obiecte posibile pentru clasificare\n",
    "objNames = np.array(['apple','pear','tomato','cow','horse','dog']) \n",
    "\n",
    "# Considered objects \n",
    "# Alegerea obiectelor pe care se merge in clasificare\n",
    "# ['apple'=0,'pear'=1,'tomato'=2 ,'cow'=3,'horse'= 4,'dog'=5]\n",
    "clsObjs = np.array([0, 1])\n",
    "\n",
    "# Clasificare binara - doar doua clase se pot alege!\n",
    "if (clsObjs.shape[0]>2): # daca s-au ales mai mult de 2 clase\n",
    "    clsObjs = clsObjs[0:2] # se pastreaza doar primele 2\n",
    "\n",
    "# Imaginile obiect se redimensioneaza - miscsoreaza\n",
    "#   in clasificare folosim varianta redusa\n",
    "#   se vor testa 0.1/ 0.15/ 0.25/ 0.75 \n",
    "ResizeFactor = 0.25 # valoare intre [0,1] - pentru micsorare imagine\n",
    "\n",
    "# Setare numar de imagini care vor fi considerate la testare \n",
    "#    (retul imaginilor vor fi utilizare la antrenare)\n",
    "test_size = 0.3     # 0.3 / 0.5 / 0.7 \n",
    "\n",
    "# Setare spatiu de culoare in care este reprezentata imaginea\n",
    "# ['R/G/B' = 0, 'Y/Cr/Cb' = 1, 'H/S/V' = 2, 'L/a/b' = 3] \n",
    "SelClrSp = 1\n",
    "\n",
    "# Setare componete  pentru spatiu de culoare care se considera in clasificare\n",
    "#imgComps = np.array([0]) #  se considera doar C = 0, componenta Y pentru YCrCb = gray\n",
    "imgComps = np.array([0, 1, 2]) # [C1 = 0, C2 = 1, C3 = 2]"
   ]
  },
  {
   "cell_type": "code",
   "execution_count": 4,
   "metadata": {},
   "outputs": [
    {
     "name": "stdout",
     "output_type": "stream",
     "text": [
      "\n",
      " Clasele considerate in clasificare:  ['apple' 'pear']\n",
      " Spatiu de culoare utilizat: Y/Cr/Cb\n",
      " Componente utilizate:  ['Y' 'Cr' 'Cb']\n",
      " Imaginile vor fi redimensionate/ miscsorate cu factorul de:  0.25\n",
      "     - rezolutia imaginilor redimensionate:  32 x 32\n",
      " Setul de date: X.shape:  (820, 3072) , y.shape:  (820,)\n"
     ]
    }
   ],
   "source": [
    "ColorSpacesList = ['R/G/B', 'Y/Cr/Cb', 'H/S/V', 'L/a/b'] \n",
    "NewColorSpace = ColorSpacesList[SelClrSp] \n",
    "\n",
    "print('\\n Clasele considerate in clasificare: ', objNames[clsObjs])\n",
    "print(' Spatiu de culoare utilizat: '+ NewColorSpace)\n",
    "print(' Componente utilizate: ', np.array(NewColorSpace.split('/'))[imgComps])\n",
    "print(' Imaginile vor fi redimensionate/ miscsorate cu factorul de: ', ResizeFactor)\n",
    "\n",
    "# In[3] Citire imagini si formarea setului de date sub forma X, y\n",
    "# Subdirectoare cu imagini a unui singur obiect cu diverse view-uri \n",
    "# Subdirectoare multiple pentru obiecte din aceasi clasa\n",
    "\n",
    "import glob\n",
    "\n",
    "# Citim toate imaginile din directorul pathData utilizate in aplicatie\n",
    "\n",
    "X = []; y=[]; flName = []\n",
    "for i in range(0, len(clsObjs)): #consideram fiecare forma\n",
    "    clsName = objNames[clsObjs[i]]\n",
    "    objDirs = glob.glob(pathData + clsName + \"*\")\n",
    "    for j in range(0,len(objDirs)): # nr de imagini pentru fiecare forma\n",
    "        objFls = glob.glob(objDirs[j] + \"/*.png\")\n",
    "        for k in range(0,len(objFls)):\n",
    "            X.append(ImgFeatExtr(objFls[k], ResizeFactor, NewColorSpace, imgComps))\n",
    "            y.append(i)\n",
    "            flName.append(objFls[k])\n",
    "  \n",
    "# X vectorul de trasaturi \n",
    "X = np.asarray(X) \n",
    "# y - vector cu labelurile fiecarei imagini\n",
    "y = np.asarray(y) \n",
    "\n",
    "imgRez = np.sqrt(X.shape[1]/imgComps.shape[0]).astype(int) \n",
    "print('     - rezolutia imaginilor redimensionate: ', imgRez , \"x\", imgRez)\n",
    "print(' Setul de date: X.shape: ', X.shape , ', y.shape: ', y.shape)"
   ]
  },
  {
   "cell_type": "code",
   "execution_count": 5,
   "metadata": {},
   "outputs": [
    {
     "name": "stdout",
     "output_type": "stream",
     "text": [
      " Se pastreaza  30.0 [%] valori in setul de test, astfel \n",
      "     - setul de date este impartit:  574 date train,  246 date test\n",
      "\n",
      "------------------------------------------------------- \n",
      "\n",
      " ------ Aplicare SVM ----------\n",
      " S-a ales optimizare parametri SVM !!!!\n",
      "Fitting 5 folds for each of 120 candidates, totalling 600 fits\n"
     ]
    },
    {
     "name": "stderr",
     "output_type": "stream",
     "text": [
      "[Parallel(n_jobs=1)]: Using backend SequentialBackend with 1 concurrent workers.\n"
     ]
    },
    {
     "name": "stdout",
     "output_type": "stream",
     "text": [
      " Parametrii optimi obtinuti:  {'C': 0.1, 'degree': 2, 'gamma': 10, 'kernel': 'linear'}\n",
      "\n",
      "  Evaluare clasificare:  \n",
      "\n",
      " Train Set, Accuracy: 100.0,    Test Set, Accuracy: 100.0,\n",
      "      Confusion Matrix:             Confusion Matrix:\n",
      "-----------------------------  ----------------------------\n",
      "          [287   0]                     [123   0]\n",
      "          [  0 287]                     [  0 123]\n"
     ]
    },
    {
     "name": "stderr",
     "output_type": "stream",
     "text": [
      "[Parallel(n_jobs=1)]: Done 600 out of 600 | elapsed:  2.2min finished\n"
     ]
    }
   ],
   "source": [
    "# In[4] # divizare date in set de antrenare si set de test\n",
    "from sklearn.model_selection import train_test_split\n",
    "X_train, X_test, y_train, y_test = train_test_split(X, y, test_size = test_size, random_state = 0)\n",
    "print(' Se pastreaza ', test_size*100, \"[%] valori in setul de test, astfel \")\n",
    "print('     - setul de date este impartit: ', X_train.shape[0],'date train, ',  X_test.shape[0],'date test' )\n",
    "\n",
    "\n",
    "# In[] SVM\n",
    "from sklearn.model_selection import GridSearchCV\n",
    "from sklearn.svm import SVC\n",
    "print('\\n------------------------------------------------------- ')\n",
    "print('\\n ------ Aplicare SVM ----------')\n",
    "\n",
    "opt_par_svm = True; # True or False\n",
    "if (not(opt_par_svm)):\n",
    "    nkernel =  'linear' #  'linear','poly', 'rbf'\n",
    "    model_svm = SVC(kernel = nkernel, random_state = 0)\n",
    "    model_svm.fit(X_train, y_train)\n",
    "    print(' Model SVM - kernel:', model_svm.kernel)\n",
    "else: \n",
    "    print(' S-a ales optimizare parametri SVM !!!!')\n",
    "    param_grid = {'kernel':['linear', 'rbf','poly'], \n",
    "                  'degree':[2,3],\n",
    "                  'C': [0.1,1, 10, 100], \n",
    "                  'gamma': [10,1,0.1,0.01,0.001]} \n",
    "    model_svm = GridSearchCV(SVC(),param_grid,refit=True,verbose=1)\n",
    "    model_svm.fit(X_train, y_train)\n",
    "    print(' Parametrii optimi obtinuti: ', model_svm.best_params_)\n",
    "\n",
    "# Predicting the Test set results\n",
    "y_pred_trn = model_svm.predict(X_train)\n",
    "y_pred_tst = model_svm.predict(X_test)\n",
    "\n",
    "[acc_trn_svm, acc_tst_svm, cf_trn_svm, cf_tst_svm] = EvalModelCls(y_train, y_pred_trn, \n",
    "                                                                  y_test, y_pred_tst,\n",
    "                                                                  \"Train Set\", \"Test Set\")\n",
    "\n"
   ]
  },
  {
   "cell_type": "code",
   "execution_count": 6,
   "metadata": {},
   "outputs": [
    {
     "name": "stdout",
     "output_type": "stream",
     "text": [
      "\n",
      " ------ Aplicare LDA ----------\n",
      " Afisare proiectii 1D a imaginilor \n",
      "  * rosu clasa 1, albastru clasa 2 - reprezentare usor deplasata pentru vizibilitate  \n",
      "       - sus setul de imagini de la antrenare (reprezentat prin stea) \n",
      "       - jos setul de imagini de la de testare (reprezentat prin punct)\n"
     ]
    },
    {
     "data": {
      "image/png": "[encoded data removed]",
      "text/plain": [
       "<Figure size 1080x144 with 1 Axes>"
      ]
     },
     "metadata": {
      "needs_background": "light"
     },
     "output_type": "display_data"
    },
    {
     "name": "stdout",
     "output_type": "stream",
     "text": [
      "\n",
      "  Evaluare clasificare:  \n",
      "\n",
      " Train Set, Accuracy: 100.0,    Test Set, Accuracy: 100.0,\n",
      "      Confusion Matrix:             Confusion Matrix:\n",
      "-----------------------------  ----------------------------\n",
      "          [287   0]                     [123   0]\n",
      "          [  0 287]                     [  0 123]\n"
     ]
    }
   ],
   "source": [
    "# In[4] Applying LDA - clasificator binar\n",
    "from sklearn.discriminant_analysis import LinearDiscriminantAnalysis as LDA\n",
    "print('\\n ------ Aplicare LDA ----------')\n",
    "# Reducerea spatiului de trasaturi la 1D prin aplicare LDA\n",
    "# - fiecare imagine este reprezentata print-o singura valoare\n",
    "model_lda = LDA(n_components = 1)\n",
    "X_train_lda = model_lda.fit_transform(X_train, y_train)\n",
    "X_test_lda = model_lda.transform(X_test)\n",
    "\n",
    "# Daca proiectia imaginii este pozitiva => face parte din clasa 1\n",
    "# Daca proiectia imaginii este negativa => face parte din clasa 0\n",
    "\n",
    "# Etichetare set antrenare\n",
    "y_pred_trn = np.zeros(X_train_lda.shape[0],) \n",
    "y_pred_trn[ np.where(X_train_lda>0) [0] ] = 1\n",
    "\n",
    "# Etichetare set test\n",
    "y_pred_tst = np.zeros(X_test_lda.shape[0],) \n",
    "y_pred_tst[ np.where(X_test_lda>0) [0] ] = 1\n",
    "\n",
    "# Afisare grafica proiectii\n",
    "af = True #\n",
    "if (af): \n",
    "    # print('\\n ---------------------------------- ')\n",
    "    print(' Afisare proiectii 1D a imaginilor ')\n",
    "    print('  * rosu clasa 1, albastru clasa 2 - reprezentare usor deplasata pentru vizibilitate  ')\n",
    "    print('       - sus setul de imagini de la antrenare (reprezentat prin stea) ')\n",
    "    print('       - jos setul de imagini de la de testare (reprezentat prin punct)')\n",
    "    clabel = ['r', 'b']\n",
    "    fig = plt.figure(figsize=(15,2))\n",
    "    \n",
    "    for i in range(0,X_test_lda.shape[0]):\n",
    "        plt.scatter(X_test_lda[i,0],2+0.15*y_test[i], c=clabel[y_test[i]], marker='o')\n",
    "    \n",
    "    # fig = plt.figure(figsize=(15,1))\n",
    "    for i in range(0,X_train_lda.shape[0]):\n",
    "        plt.scatter(X_train_lda[i,0],6+0.15*y_train[i], c=clabel[y_train[i]], marker='*')\n",
    "    \n",
    "    plt.show()\n",
    "\n",
    "# Calcul metrici evaluare\n",
    "from sklearn import metrics\n",
    "\n",
    "[acc_trn_lda, acc_tst_lda, cf_trn_lda, cf_tst_lda] = EvalModelCls(y_train, y_pred_trn, \n",
    "                                                                  y_test, y_pred_tst,\n",
    "                                                                  \"Train Set\", \"Test Set\")\n"
   ]
  },
  {
   "cell_type": "code",
   "execution_count": 7,
   "metadata": {},
   "outputs": [
    {
     "name": "stdout",
     "output_type": "stream",
     "text": [
      "\n",
      " Valorile de trecut in tabel, in variabila valsTbl: \n",
      " [[100. 100. 100. 100.]]\n"
     ]
    }
   ],
   "source": [
    "# In[] Mod trecere valori in tabel\n",
    "\n",
    "valsTbl  =  np.array([[acc_trn_lda, acc_tst_lda, acc_trn_svm, acc_tst_svm]])\n",
    "print (\"\\n Valorile de trecut in tabel, in variabila valsTbl: \\n\", valsTbl)"
   ]
  },
  {
   "cell_type": "code",
   "execution_count": null,
   "metadata": {},
   "outputs": [],
   "source": []
  }
 ],
 "metadata": {
  "kernelspec": {
   "display_name": "Python 3",
   "language": "python",
   "name": "python3"
  },
  "language_info": {
   "codemirror_mode": {
    "name": "ipython",
    "version": 3
   },
   "file_extension": ".py",
   "mimetype": "text/x-python",
   "name": "python",
   "nbconvert_exporter": "python",
   "pygments_lexer": "ipython3",
   "version": "3.8.5"
  }
 },
 "nbformat": 4,
 "nbformat_minor": 4
}
