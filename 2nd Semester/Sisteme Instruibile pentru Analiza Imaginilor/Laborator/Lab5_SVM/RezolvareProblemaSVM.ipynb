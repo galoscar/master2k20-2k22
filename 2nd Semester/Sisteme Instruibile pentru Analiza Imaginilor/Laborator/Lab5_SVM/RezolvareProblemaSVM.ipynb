{
 "cells": [
  {
   "cell_type": "markdown",
   "metadata": {},
   "source": [
    "# Problema SVM"
   ]
  },
  {
   "cell_type": "markdown",
   "metadata": {},
   "source": [
    "Pentru separarea unui set de date din două clase, reprezentate într-un spaţiu \n",
    "tridimensional de  trăsături (cu fiecare trăsătură în domeniul [0;255]), \n",
    "se antrenează un clasificator SVM liniar  binar pe o mulţime a datelor de \n",
    "antrenare. Functia de decizie a clasificatorului rezultat este: \n",
    "\n",
    "y=sign(f(x)), cu f(x)=0.054*x1-0.009*x2-0.066*x3-1.5, \n",
    "\n",
    "unde x=[x1 x2 x3] este forma generala a unui vector de date in spatiul \n",
    "tridimensional al trasaturilor (cu x1, x2, x3 se noteaza cele trei trasaturi).\n",
    "Sa se calculeze valoarea reala a functiei de decizie a clasificatorului, f(x), \n",
    "pentru urmatoarele date de test:\n",
    "- din clasa exemplelor pozitive (eticheta +1):\n",
    "xt1 =[120 90 70]; xt2 = [200 90 110];\n",
    "- din clasa exemplelor negative (eticheta -1):\n",
    "xt3= [150 140 150] ; xt4 = [60 50 60] .\n"
   ]
  },
  {
   "cell_type": "code",
   "execution_count": 1,
   "metadata": {},
   "outputs": [],
   "source": [
    "import numpy as np\n"
   ]
  },
  {
   "cell_type": "code",
   "execution_count": 2,
   "metadata": {},
   "outputs": [
    {
     "name": "stdout",
     "output_type": "stream",
     "text": [
      "-0.4500000000000002\n"
     ]
    }
   ],
   "source": [
    "\n",
    "fxt1 = 0.054*120-0.009*90-0.066*70-1.5 \n",
    "\n",
    "print(fxt1)"
   ]
  },
  {
   "cell_type": "code",
   "execution_count": 3,
   "metadata": {},
   "outputs": [],
   "source": [
    "\n",
    "x_pd = np.array( [0.054, -0.009, -0.066, -1.5])\n",
    "\n",
    "X = np.array([[120, 90, 70, 1],\n",
    "              [200, 90, 110, 1],\n",
    "              [150, 140, 150, 1],\n",
    "              [60, 50, 60, 1]])\n",
    "                "
   ]
  },
  {
   "cell_type": "code",
   "execution_count": 5,
   "metadata": {},
   "outputs": [
    {
     "name": "stdout",
     "output_type": "stream",
     "text": [
      "[-0.45  1.23 -4.56 -2.67]\n"
     ]
    }
   ],
   "source": [
    "fxt = X.dot(np.transpose(x_pd))\n",
    "print(fxt)"
   ]
  },
  {
   "cell_type": "code",
   "execution_count": 6,
   "metadata": {},
   "outputs": [
    {
     "name": "stdout",
     "output_type": "stream",
     "text": [
      "[-1  1 -1 -1]\n"
     ]
    }
   ],
   "source": [
    "y = np.sign(fxt).astype(int)\n",
    "print(y)"
   ]
  },
  {
   "cell_type": "code",
   "execution_count": null,
   "metadata": {},
   "outputs": [],
   "source": []
  }
 ],
 "metadata": {
  "kernelspec": {
   "display_name": "Python 3",
   "language": "python",
   "name": "python3"
  },
  "language_info": {
   "codemirror_mode": {
    "name": "ipython",
    "version": 3
   },
   "file_extension": ".py",
   "mimetype": "text/x-python",
   "name": "python",
   "nbconvert_exporter": "python",
   "pygments_lexer": "ipython3",
   "version": "3.8.5"
  }
 },
 "nbformat": 4,
 "nbformat_minor": 4
}
