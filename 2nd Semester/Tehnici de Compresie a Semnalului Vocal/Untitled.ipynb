{
 "cells": [
  {
   "cell_type": "markdown",
   "metadata": {},
   "source": [
    "# TSVB Curs 1"
   ]
  },
  {
   "cell_type": "markdown",
   "metadata": {},
   "source": [
    "## Sisteme de codare si compresie in domeniul timp\n",
    "\n",
    "- Scop: reducerea debitului binar rezultat din sistemul de conversie analog/numerica, asociat cu protectia \n",
    "    la erorile din canalul de comunicatii -> o codare combinata a sursei de semnal si canalul de propagare\n",
    "- Important: toate procesarile se efectueaza doar pe forma de unda a semnalului (in domeniul timp) -> tehnicile  \n",
    "    exploreaza doar caracteristici in domeniul timp (eg. corelatia intre esantioane, gama dinamica a semnalului, \n",
    "    modul de distributie a valorii esantioanelor)\n",
    "- Efect: generarea unor debite standard (64Kbps, 32 Kbps) la calitate buna a semnalului vocal\n",
    "\n",
    "Exemple de sisteme de codare rimp\n",
    "\n",
    "Sistem de codare PCM \n",
    "- (1) in A/D se transforma semnalul in unul digital\n",
    "- (2) se codeaza semnalul\n",
    "\n",
    "\n",
    "Quantizare:\n",
    "\n",
    "\n",
    "    \n",
    "    \n",
    "    "
   ]
  }
 ],
 "metadata": {
  "kernelspec": {
   "display_name": "Python 3",
   "language": "python",
   "name": "python3"
  },
  "language_info": {
   "codemirror_mode": {
    "name": "ipython",
    "version": 3
   },
   "file_extension": ".py",
   "mimetype": "text/x-python",
   "name": "python",
   "nbconvert_exporter": "python",
   "pygments_lexer": "ipython3",
   "version": "3.8.5"
  }
 },
 "nbformat": 4,
 "nbformat_minor": 4
}
